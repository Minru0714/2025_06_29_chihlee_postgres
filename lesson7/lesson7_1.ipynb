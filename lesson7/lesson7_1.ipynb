{
 "cells": [
  {
   "cell_type": "markdown",
   "id": "0d217fe2",
   "metadata": {},
   "source": [
    "### 這是python基礎課程\n"
   ]
  },
  {
   "cell_type": "code",
   "execution_count": 3,
   "id": "6f270932",
   "metadata": {},
   "outputs": [
    {
     "name": "stdout",
     "output_type": "stream",
     "text": [
      "hello! python!\n",
      "以下是python的基本資料類型(int, flost, str, bool)\n"
     ]
    },
    {
     "data": {
      "text/plain": [
       "False"
      ]
     },
     "execution_count": 3,
     "metadata": {},
     "output_type": "execute_result"
    }
   ],
   "source": [
    "print(\"hello! python!\")\n",
    "print(\"以下是python的基本資料類型(int, flost, str, bool)\")\n",
    "15 #整數,表示用(int)\n",
    "15.0 #浮點數(float)\n",
    "\"15.0\" #字串,(str)\n",
    "'15.0' #字串,(str)\n",
    "True #布林值,(bool)\n",
    "False #布林值,(bool)\n"
   ]
  },
  {
   "cell_type": "code",
   "execution_count": 4,
   "id": "a64d8a94",
   "metadata": {},
   "outputs": [
    {
     "data": {
      "text/plain": [
       "'單行字串'"
      ]
     },
     "execution_count": 4,
     "metadata": {},
     "output_type": "execute_result"
    }
   ],
   "source": [
    "\"單行字串\"\n",
    "'單行字串'\n"
   ]
  },
  {
   "cell_type": "code",
   "execution_count": 5,
   "id": "192fb5bc",
   "metadata": {},
   "outputs": [
    {
     "name": "stdout",
     "output_type": "stream",
     "text": [
      "SELECT\"stationcode\",\"stationName\",\"stationAddrTW\"\n",
      "FROM \"台鐵車站資訊\"\n",
      "WHERE \"stationAddrTW\" LIKE '%基隆市%';\n"
     ]
    }
   ],
   "source": [
    "#多行字串\n",
    "print(\"\"\"SELECT\"stationcode\",\"stationName\",\"stationAddrTW\"\n",
    "FROM \"台鐵車站資訊\"\n",
    "WHERE \"stationAddrTW\" LIKE '%基隆市%';\"\"\")"
   ]
  },
  {
   "cell_type": "code",
   "execution_count": 6,
   "id": "9a59e566",
   "metadata": {},
   "outputs": [
    {
     "name": "stdout",
     "output_type": "stream",
     "text": [
      "SELECT\n",
      "    \"stationCode\"\n",
      "    \"stationName\"\n",
      "    \"Name\"\n",
      "FROM\n",
      "    \"台灣車站資訊\"\n",
      "WHERE\n",
      "    \"stationAddrTW\" LIKE '%基隆市%';\n"
     ]
    }
   ],
   "source": [
    "print(\"\"\"SELECT\n",
    "    \"stationCode\"\n",
    "    \"stationName\"\n",
    "    \"Name\"\n",
    "FROM\n",
    "    \"台灣車站資訊\"\n",
    "WHERE\n",
    "    \"stationAddrTW\" LIKE '%基隆市%';\"\"\")"
   ]
  }
 ],
 "metadata": {
  "kernelspec": {
   "display_name": "myenv",
   "language": "python",
   "name": "python3"
  },
  "language_info": {
   "codemirror_mode": {
    "name": "ipython",
    "version": 3
   },
   "file_extension": ".py",
   "mimetype": "text/x-python",
   "name": "python",
   "nbconvert_exporter": "python",
   "pygments_lexer": "ipython3",
   "version": "3.10.18"
  }
 },
 "nbformat": 4,
 "nbformat_minor": 5
}
