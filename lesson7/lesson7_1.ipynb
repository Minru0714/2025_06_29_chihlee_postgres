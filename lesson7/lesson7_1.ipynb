{
 "cells": [
  {
   "cell_type": "markdown",
   "id": "0d217fe2",
   "metadata": {},
   "source": [
    "### 這是python基礎課程\n"
   ]
  },
  {
   "cell_type": "code",
   "execution_count": 5,
   "id": "6f270932",
   "metadata": {},
   "outputs": [
    {
     "name": "stdout",
     "output_type": "stream",
     "text": [
      "hello! python!\n",
      "以下是python的基本資料類型(int, flost, str, bool)\n"
     ]
    },
    {
     "data": {
      "text/plain": [
       "False"
      ]
     },
     "execution_count": 5,
     "metadata": {},
     "output_type": "execute_result"
    }
   ],
   "source": [
    "print(\"hello! python!\")\n",
    "print(\"以下是python的基本資料類型(int, flost, str, bool)\")\n",
    "15 #整數,表示用(int)\n",
    "15.0 #浮點數(float)\n",
    "\"15.0\" #字串,(str)\n",
    "'15.0' #字串,(str)\n",
    "True #布林值,(bool)\n",
    "False #布林值,(bool)\n"
   ]
  }
 ],
 "metadata": {
  "kernelspec": {
   "display_name": "myenv",
   "language": "python",
   "name": "python3"
  },
  "language_info": {
   "codemirror_mode": {
    "name": "ipython",
    "version": 3
   },
   "file_extension": ".py",
   "mimetype": "text/x-python",
   "name": "python",
   "nbconvert_exporter": "python",
   "pygments_lexer": "ipython3",
   "version": "3.10.18"
  }
 },
 "nbformat": 4,
 "nbformat_minor": 5
}
